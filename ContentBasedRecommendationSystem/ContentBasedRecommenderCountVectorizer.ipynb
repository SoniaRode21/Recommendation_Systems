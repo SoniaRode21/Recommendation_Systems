{
 "cells": [
  {
   "cell_type": "code",
   "execution_count": 18,
   "metadata": {},
   "outputs": [],
   "source": [
    "#To increase the accuracy of recommendations, we'll use more features in addition to the movie plot."
   ]
  },
  {
   "cell_type": "code",
   "execution_count": 19,
   "metadata": {},
   "outputs": [],
   "source": [
    "import pandas as pd \n",
    "import numpy as np\n",
    "from sklearn.feature_extraction.text import TfidfVectorizer\n",
    "from sklearn.metrics.pairwise import linear_kernel\n",
    "from sklearn.feature_extraction.text import CountVectorizer\n",
    "from sklearn.metrics.pairwise import cosine_similarity"
   ]
  },
  {
   "cell_type": "code",
   "execution_count": 20,
   "metadata": {},
   "outputs": [],
   "source": [
    "movies=pd.read_csv(\"IMDBdata_MainData.csv\")"
   ]
  },
  {
   "cell_type": "code",
   "execution_count": 21,
   "metadata": {},
   "outputs": [],
   "source": [
    "#Selecting fatures like director, plot and genre \n",
    "movies=movies[['Title','Plot','Director','Genre']]"
   ]
  },
  {
   "cell_type": "code",
   "execution_count": 22,
   "metadata": {},
   "outputs": [],
   "source": [
    "#Function converts string to lower case and removes spaces from names. \n",
    "#For Eg the output for Dwight Schrute will be dwightschrute\n",
    "def text_preprocessing(x):\n",
    "    if isinstance(x, list):\n",
    "        return [str.lower(i.replace(\" \", \"\")) for i in x]\n",
    "    else:\n",
    "        #Check if director exists. If not, return empty string\n",
    "        if isinstance(x, str):\n",
    "            return str.lower(x.replace(\" \", \"\"))\n",
    "        else:\n",
    "            return ''\n",
    "\n"
   ]
  },
  {
   "cell_type": "code",
   "execution_count": 23,
   "metadata": {},
   "outputs": [],
   "source": [
    "movies['Director'] = movies['Director'].apply(text_preprocessing)"
   ]
  },
  {
   "cell_type": "code",
   "execution_count": 24,
   "metadata": {},
   "outputs": [],
   "source": [
    "#Get all the features together\n",
    "movies['features']=movies['Title']+\" \"+movies['Plot']+\" \"+movies['Director']+\" \"+movies['Genre']"
   ]
  },
  {
   "cell_type": "code",
   "execution_count": 26,
   "metadata": {},
   "outputs": [],
   "source": [
    "movies['features'].fillna(\" \",inplace=True)\n",
    "\n",
    "'''\n",
    "The CountVectorizer provides a simple way to both tokenize a collection of text documents and build a vocabulary of\n",
    "known words, but also to encode new documents using that vocabulary.An encoded vector is returned with a length of \n",
    "the entire vocabulary and an integer count for the number of times each word appeared in the document. \n",
    "Term Frequency – Inverse Document” Frequency which are the components of the resulting scores assigned to each word.\n",
    "\n",
    "Term Frequency: This summarizes how often a given word appears within a document.\n",
    "Inverse Document Frequency: This downscales words that appear a lot across documents.\n",
    "Without going into the math, TF-IDF are word frequency scores that try to highlight words that are more interesting,\n",
    "e.g. frequent in a document but not across documents.\n",
    "source:https://machinelearningmastery.com/prepare-text-data-machine-learning-scikit-learn/\n",
    "\n",
    "\n",
    "The difference from the previous Content based recommender is using the CountVectorizer() instead of TF-IDF. \n",
    "This is not to down-weight the presence of an director if he or she has directed in relatively more movies.\n",
    "'''\n",
    "cv = CountVectorizer(stop_words='english')\n",
    "matrix = cv.fit_transform(movies.features)\n",
    "\n"
   ]
  },
  {
   "cell_type": "code",
   "execution_count": 27,
   "metadata": {},
   "outputs": [],
   "source": [
    "cosineSimilarity = cosine_similarity(matrix,matrix)"
   ]
  },
  {
   "cell_type": "code",
   "execution_count": 28,
   "metadata": {},
   "outputs": [],
   "source": [
    "movies = movies.reset_index()\n",
    "AllIndex = pd.Series(movies.index, index=movies['Title'])"
   ]
  },
  {
   "cell_type": "code",
   "execution_count": 29,
   "metadata": {},
   "outputs": [],
   "source": [
    "def recommendations(title,cs=cosineSimilarity):\n",
    "    \"\"\" \n",
    "    :param: title - title of the movie to find similar movies\n",
    "    :param: cs - Cosine similarty matrix\n",
    "    \"\"\"\n",
    "    index=AllIndex[title]\n",
    "    \n",
    "    #Get all similarity scores for the given movie\n",
    "    scores = list(enumerate(cs[index]))\n",
    "    scores = sorted(scores, key=lambda x: x[1], reverse=True)\n",
    "\n",
    "    # Get the scores of the 10 most similar movies\n",
    "    scores = scores[1:11]\n",
    "\n",
    "    # Get the movie indices for top 10\n",
    "    movie_indices = [i[0] for i in scores]\n",
    "\n",
    "    return movies['Title'].iloc[movie_indices]"
   ]
  },
  {
   "cell_type": "code",
   "execution_count": 30,
   "metadata": {
    "scrolled": true
   },
   "outputs": [
    {
     "data": {
      "text/plain": [
       "103                             The Dark Knight\n",
       "1960                                     Batman\n",
       "1753                            A Knight's Tale\n",
       "4350    Batman: The Dark Knight Returns, Part 2\n",
       "1218                                  The Siege\n",
       "42                            Alone in the Dark\n",
       "315                                    Sin City\n",
       "405                                      Baasha\n",
       "2350                                  Dark City\n",
       "2663                              The Conjuring\n",
       "Name: Title, dtype: object"
      ]
     },
     "execution_count": 30,
     "metadata": {},
     "output_type": "execute_result"
    }
   ],
   "source": [
    "recommendations('The Dark Knight Rises')"
   ]
  },
  {
   "cell_type": "code",
   "execution_count": null,
   "metadata": {},
   "outputs": [],
   "source": []
  }
 ],
 "metadata": {
  "kernelspec": {
   "display_name": "Python 3",
   "language": "python",
   "name": "python3"
  },
  "language_info": {
   "codemirror_mode": {
    "name": "ipython",
    "version": 3
   },
   "file_extension": ".py",
   "mimetype": "text/x-python",
   "name": "python",
   "nbconvert_exporter": "python",
   "pygments_lexer": "ipython3",
   "version": "3.7.3"
  }
 },
 "nbformat": 4,
 "nbformat_minor": 2
}
