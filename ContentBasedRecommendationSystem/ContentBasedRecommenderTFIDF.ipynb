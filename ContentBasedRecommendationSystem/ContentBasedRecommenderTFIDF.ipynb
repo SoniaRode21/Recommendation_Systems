{
 "cells": [
  {
   "cell_type": "code",
   "execution_count": 629,
   "metadata": {},
   "outputs": [],
   "source": [
    "import pandas as pd \n",
    "import numpy as np\n",
    "from sklearn.feature_extraction.text import TfidfVectorizer\n",
    "from sklearn.metrics.pairwise import linear_kernel\n",
    "from sklearn.feature_extraction.text import CountVectorizer\n",
    "from sklearn.metrics.pairwise import cosine_similarity\n",
    "\n"
   ]
  },
  {
   "cell_type": "code",
   "execution_count": 630,
   "metadata": {},
   "outputs": [],
   "source": [
    "#Initialize a TFIDF Vectroizer\n",
    "tfidf = TfidfVectorizer(stop_words='english')"
   ]
  },
  {
   "cell_type": "code",
   "execution_count": 631,
   "metadata": {},
   "outputs": [],
   "source": [
    "movies=pd.read_csv(\"IMDBdata_MainData.csv\")"
   ]
  },
  {
   "cell_type": "code",
   "execution_count": 632,
   "metadata": {},
   "outputs": [
    {
     "data": {
      "text/plain": [
       "Index(['Title', 'Year', 'Rated', 'Released', 'Runtime', 'Genre', 'Director',\n",
       "       'Writer', 'Actors', 'Plot', 'Language', 'Country', 'Awards', 'Poster',\n",
       "       'Ratings.Source', 'Ratings.Value', 'Metascore', 'imdbRating',\n",
       "       'imdbVotes', 'imdbID', 'Type', 'DVD', 'BoxOffice', 'Production',\n",
       "       'Website', 'Response', 'tomatoURL'],\n",
       "      dtype='object')"
      ]
     },
     "execution_count": 632,
     "metadata": {},
     "output_type": "execute_result"
    }
   ],
   "source": [
    "movies.columns\n"
   ]
  },
  {
   "cell_type": "code",
   "execution_count": 633,
   "metadata": {},
   "outputs": [],
   "source": [
    "movies=movies[['Title','Plot','Director','Genre']]"
   ]
  },
  {
   "cell_type": "code",
   "execution_count": 634,
   "metadata": {},
   "outputs": [
    {
     "data": {
      "text/html": [
       "<div>\n",
       "<style scoped>\n",
       "    .dataframe tbody tr th:only-of-type {\n",
       "        vertical-align: middle;\n",
       "    }\n",
       "\n",
       "    .dataframe tbody tr th {\n",
       "        vertical-align: top;\n",
       "    }\n",
       "\n",
       "    .dataframe thead th {\n",
       "        text-align: right;\n",
       "    }\n",
       "</style>\n",
       "<table border=\"1\" class=\"dataframe\">\n",
       "  <thead>\n",
       "    <tr style=\"text-align: right;\">\n",
       "      <th></th>\n",
       "      <th>Title</th>\n",
       "      <th>Plot</th>\n",
       "      <th>Director</th>\n",
       "      <th>Genre</th>\n",
       "    </tr>\n",
       "  </thead>\n",
       "  <tbody>\n",
       "    <tr>\n",
       "      <th>0</th>\n",
       "      <td>Code Name: K.O.Z.</td>\n",
       "      <td>A look at the 17-25 December 2013 corruption s...</td>\n",
       "      <td>Celal Çimen</td>\n",
       "      <td>Crime, Mystery</td>\n",
       "    </tr>\n",
       "    <tr>\n",
       "      <th>1</th>\n",
       "      <td>Saving Christmas</td>\n",
       "      <td>Kirk is enjoying the annual Christmas party ex...</td>\n",
       "      <td>Darren Doane</td>\n",
       "      <td>Comedy, Family</td>\n",
       "    </tr>\n",
       "    <tr>\n",
       "      <th>2</th>\n",
       "      <td>Superbabies: Baby Geniuses 2</td>\n",
       "      <td>A group of smart-talking toddlers find themsel...</td>\n",
       "      <td>Bob Clark</td>\n",
       "      <td>Comedy, Family, Sci-Fi</td>\n",
       "    </tr>\n",
       "    <tr>\n",
       "      <th>3</th>\n",
       "      <td>Daniel der Zauberer</td>\n",
       "      <td>Evil assassins want to kill Daniel Kublbock, t...</td>\n",
       "      <td>Ulli Lommel</td>\n",
       "      <td>Comedy, Crime, Fantasy</td>\n",
       "    </tr>\n",
       "    <tr>\n",
       "      <th>4</th>\n",
       "      <td>Manos: The Hands of Fate</td>\n",
       "      <td>A family gets lost on the road and stumbles up...</td>\n",
       "      <td>Harold P. Warren</td>\n",
       "      <td>Horror</td>\n",
       "    </tr>\n",
       "  </tbody>\n",
       "</table>\n",
       "</div>"
      ],
      "text/plain": [
       "                          Title  \\\n",
       "0             Code Name: K.O.Z.   \n",
       "1              Saving Christmas   \n",
       "2  Superbabies: Baby Geniuses 2   \n",
       "3           Daniel der Zauberer   \n",
       "4      Manos: The Hands of Fate   \n",
       "\n",
       "                                                Plot          Director  \\\n",
       "0  A look at the 17-25 December 2013 corruption s...       Celal Çimen   \n",
       "1  Kirk is enjoying the annual Christmas party ex...      Darren Doane   \n",
       "2  A group of smart-talking toddlers find themsel...         Bob Clark   \n",
       "3  Evil assassins want to kill Daniel Kublbock, t...       Ulli Lommel   \n",
       "4  A family gets lost on the road and stumbles up...  Harold P. Warren   \n",
       "\n",
       "                    Genre  \n",
       "0          Crime, Mystery  \n",
       "1          Comedy, Family  \n",
       "2  Comedy, Family, Sci-Fi  \n",
       "3  Comedy, Crime, Fantasy  \n",
       "4                  Horror  "
      ]
     },
     "execution_count": 634,
     "metadata": {},
     "output_type": "execute_result"
    }
   ],
   "source": [
    "movies.head()"
   ]
  },
  {
   "cell_type": "code",
   "execution_count": 635,
   "metadata": {},
   "outputs": [],
   "source": [
    "movies['Plot'].fillna(\" \",inplace=True)\n"
   ]
  },
  {
   "cell_type": "code",
   "execution_count": 636,
   "metadata": {},
   "outputs": [],
   "source": [
    "#Create a map of movie tilte to its index\n",
    "AllIndex = pd.Series(movies.index, index=movies['Title']).drop_duplicates()\n"
   ]
  },
  {
   "cell_type": "code",
   "execution_count": 637,
   "metadata": {},
   "outputs": [],
   "source": [
    "#Get the TFIDF matrix fittend on movie's Plot\n",
    "matrix = tfidf.fit_transform(movies['Plot'])"
   ]
  },
  {
   "cell_type": "code",
   "execution_count": 638,
   "metadata": {},
   "outputs": [],
   "source": [
    "#Use cosine similarity measure to calculate the similarity between the movies\n",
    "#Since you have used the TF-IDF vectorizer, calculating the dot product will directly give you\n",
    "#the cosine similarity score\n",
    "cosine_similarity = linear_kernel(matrix,matrix)\n"
   ]
  },
  {
   "cell_type": "code",
   "execution_count": 639,
   "metadata": {},
   "outputs": [
    {
     "data": {
      "text/plain": [
       "1960                             Batman\n",
       "103                     The Dark Knight\n",
       "4674                                Yes\n",
       "1218                          The Siege\n",
       "2239                            Godsend\n",
       "2458                          Elizabeth\n",
       "3749    The Wind That Shakes the Barley\n",
       "1064                     Batman Returns\n",
       "2122              George and the Dragon\n",
       "3249                            Flipped\n",
       "Name: Title, dtype: object"
      ]
     },
     "execution_count": 639,
     "metadata": {},
     "output_type": "execute_result"
    }
   ],
   "source": [
    "#Function to give top 10 movie recommendations\n",
    "\n",
    "def recommendations(title,cs=cosine_similarity):\n",
    "    \"\"\" \n",
    "    :param: title - title of the movie to find similar movies\n",
    "    :param: cs - Cosine similarty matrix\n",
    "    \"\"\"\n",
    "    index=AllIndex[title]\n",
    "    \n",
    "    #Get all similarity scores for the given movie\n",
    "    scores = list(enumerate(cs[index]))\n",
    "    scores = sorted(scores, key=lambda x: x[1], reverse=True)\n",
    "\n",
    "    # Get the scores of the 10 most similar movies\n",
    "    scores = scores[1:11]\n",
    "\n",
    "    # Get the movie indices for top 10\n",
    "    movie_indices = [i[0] for i in scores]\n",
    "\n",
    "    return movies['Title'].iloc[movie_indices]\n",
    "recommendations('The Dark Knight Rises')\n",
    "\n"
   ]
  },
  {
   "cell_type": "code",
   "execution_count": 640,
   "metadata": {},
   "outputs": [
    {
     "data": {
      "text/plain": [
       "898                  The Aviator\n",
       "1486     The Godfather: Part III\n",
       "4377                   The Purge\n",
       "1556              Absolute Power\n",
       "4348                The Betrayed\n",
       "2172           Midnight in Paris\n",
       "4245                     Boyhood\n",
       "1429    The Pursuit of Happyness\n",
       "2247               Dead Man Down\n",
       "1013        The Nutcracker in 3D\n",
       "Name: Title, dtype: object"
      ]
     },
     "execution_count": 640,
     "metadata": {},
     "output_type": "execute_result"
    }
   ],
   "source": [
    "recommendations('The Godfather: Part II')"
   ]
  }
 ],
 "metadata": {
  "kernelspec": {
   "display_name": "Python 3",
   "language": "python",
   "name": "python3"
  },
  "language_info": {
   "codemirror_mode": {
    "name": "ipython",
    "version": 3
   },
   "file_extension": ".py",
   "mimetype": "text/x-python",
   "name": "python",
   "nbconvert_exporter": "python",
   "pygments_lexer": "ipython3",
   "version": "3.7.3"
  }
 },
 "nbformat": 4,
 "nbformat_minor": 2
}
